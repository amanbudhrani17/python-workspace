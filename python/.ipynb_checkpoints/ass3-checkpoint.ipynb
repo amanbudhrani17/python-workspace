{
 "cells": [
  {
   "cell_type": "code",
   "execution_count": 1,
   "id": "375ce57a",
   "metadata": {},
   "outputs": [],
   "source": [
    "import numpy as np\n",
    "import pandas as pd\n",
    "import seaborn as sns\n",
    "import matplotlib.pyplot as plt\n",
    "%matplotlib inline"
   ]
  },
  {
   "cell_type": "code",
   "execution_count": 3,
   "id": "0a8fcc2e",
   "metadata": {},
   "outputs": [],
   "source": [
    "data = pd.read_csv('wine.csv')"
   ]
  },
  {
   "cell_type": "code",
   "execution_count": 4,
   "id": "feaefb75",
   "metadata": {},
   "outputs": [
    {
     "data": {
      "text/html": [
       "<div>\n",
       "<style scoped>\n",
       "    .dataframe tbody tr th:only-of-type {\n",
       "        vertical-align: middle;\n",
       "    }\n",
       "\n",
       "    .dataframe tbody tr th {\n",
       "        vertical-align: top;\n",
       "    }\n",
       "\n",
       "    .dataframe thead th {\n",
       "        text-align: right;\n",
       "    }\n",
       "</style>\n",
       "<table border=\"1\" class=\"dataframe\">\n",
       "  <thead>\n",
       "    <tr style=\"text-align: right;\">\n",
       "      <th></th>\n",
       "      <th>Wine</th>\n",
       "      <th>Alcohol</th>\n",
       "      <th>Malic.acid</th>\n",
       "      <th>Ash</th>\n",
       "      <th>Acl</th>\n",
       "      <th>Mg</th>\n",
       "      <th>Phenols</th>\n",
       "      <th>Flavanoids</th>\n",
       "      <th>Nonflavanoid.phenols</th>\n",
       "      <th>Proanth</th>\n",
       "      <th>Color.int</th>\n",
       "      <th>Hue</th>\n",
       "      <th>OD</th>\n",
       "      <th>Proline</th>\n",
       "    </tr>\n",
       "  </thead>\n",
       "  <tbody>\n",
       "    <tr>\n",
       "      <th>0</th>\n",
       "      <td>1</td>\n",
       "      <td>14.23</td>\n",
       "      <td>1.71</td>\n",
       "      <td>2.43</td>\n",
       "      <td>15.6</td>\n",
       "      <td>127</td>\n",
       "      <td>2.80</td>\n",
       "      <td>3.06</td>\n",
       "      <td>0.28</td>\n",
       "      <td>2.29</td>\n",
       "      <td>5.64</td>\n",
       "      <td>1.04</td>\n",
       "      <td>3.92</td>\n",
       "      <td>1065</td>\n",
       "    </tr>\n",
       "    <tr>\n",
       "      <th>1</th>\n",
       "      <td>1</td>\n",
       "      <td>13.20</td>\n",
       "      <td>1.78</td>\n",
       "      <td>2.14</td>\n",
       "      <td>11.2</td>\n",
       "      <td>100</td>\n",
       "      <td>2.65</td>\n",
       "      <td>2.76</td>\n",
       "      <td>0.26</td>\n",
       "      <td>1.28</td>\n",
       "      <td>4.38</td>\n",
       "      <td>1.05</td>\n",
       "      <td>3.40</td>\n",
       "      <td>1050</td>\n",
       "    </tr>\n",
       "    <tr>\n",
       "      <th>2</th>\n",
       "      <td>1</td>\n",
       "      <td>13.16</td>\n",
       "      <td>2.36</td>\n",
       "      <td>2.67</td>\n",
       "      <td>18.6</td>\n",
       "      <td>101</td>\n",
       "      <td>2.80</td>\n",
       "      <td>3.24</td>\n",
       "      <td>0.30</td>\n",
       "      <td>2.81</td>\n",
       "      <td>5.68</td>\n",
       "      <td>1.03</td>\n",
       "      <td>3.17</td>\n",
       "      <td>1185</td>\n",
       "    </tr>\n",
       "    <tr>\n",
       "      <th>3</th>\n",
       "      <td>1</td>\n",
       "      <td>14.37</td>\n",
       "      <td>1.95</td>\n",
       "      <td>2.50</td>\n",
       "      <td>16.8</td>\n",
       "      <td>113</td>\n",
       "      <td>3.85</td>\n",
       "      <td>3.49</td>\n",
       "      <td>0.24</td>\n",
       "      <td>2.18</td>\n",
       "      <td>7.80</td>\n",
       "      <td>0.86</td>\n",
       "      <td>3.45</td>\n",
       "      <td>1480</td>\n",
       "    </tr>\n",
       "    <tr>\n",
       "      <th>4</th>\n",
       "      <td>1</td>\n",
       "      <td>13.24</td>\n",
       "      <td>2.59</td>\n",
       "      <td>2.87</td>\n",
       "      <td>21.0</td>\n",
       "      <td>118</td>\n",
       "      <td>2.80</td>\n",
       "      <td>2.69</td>\n",
       "      <td>0.39</td>\n",
       "      <td>1.82</td>\n",
       "      <td>4.32</td>\n",
       "      <td>1.04</td>\n",
       "      <td>2.93</td>\n",
       "      <td>735</td>\n",
       "    </tr>\n",
       "    <tr>\n",
       "      <th>...</th>\n",
       "      <td>...</td>\n",
       "      <td>...</td>\n",
       "      <td>...</td>\n",
       "      <td>...</td>\n",
       "      <td>...</td>\n",
       "      <td>...</td>\n",
       "      <td>...</td>\n",
       "      <td>...</td>\n",
       "      <td>...</td>\n",
       "      <td>...</td>\n",
       "      <td>...</td>\n",
       "      <td>...</td>\n",
       "      <td>...</td>\n",
       "      <td>...</td>\n",
       "    </tr>\n",
       "    <tr>\n",
       "      <th>173</th>\n",
       "      <td>3</td>\n",
       "      <td>13.71</td>\n",
       "      <td>5.65</td>\n",
       "      <td>2.45</td>\n",
       "      <td>20.5</td>\n",
       "      <td>95</td>\n",
       "      <td>1.68</td>\n",
       "      <td>0.61</td>\n",
       "      <td>0.52</td>\n",
       "      <td>1.06</td>\n",
       "      <td>7.70</td>\n",
       "      <td>0.64</td>\n",
       "      <td>1.74</td>\n",
       "      <td>740</td>\n",
       "    </tr>\n",
       "    <tr>\n",
       "      <th>174</th>\n",
       "      <td>3</td>\n",
       "      <td>13.40</td>\n",
       "      <td>3.91</td>\n",
       "      <td>2.48</td>\n",
       "      <td>23.0</td>\n",
       "      <td>102</td>\n",
       "      <td>1.80</td>\n",
       "      <td>0.75</td>\n",
       "      <td>0.43</td>\n",
       "      <td>1.41</td>\n",
       "      <td>7.30</td>\n",
       "      <td>0.70</td>\n",
       "      <td>1.56</td>\n",
       "      <td>750</td>\n",
       "    </tr>\n",
       "    <tr>\n",
       "      <th>175</th>\n",
       "      <td>3</td>\n",
       "      <td>13.27</td>\n",
       "      <td>4.28</td>\n",
       "      <td>2.26</td>\n",
       "      <td>20.0</td>\n",
       "      <td>120</td>\n",
       "      <td>1.59</td>\n",
       "      <td>0.69</td>\n",
       "      <td>0.43</td>\n",
       "      <td>1.35</td>\n",
       "      <td>10.20</td>\n",
       "      <td>0.59</td>\n",
       "      <td>1.56</td>\n",
       "      <td>835</td>\n",
       "    </tr>\n",
       "    <tr>\n",
       "      <th>176</th>\n",
       "      <td>3</td>\n",
       "      <td>13.17</td>\n",
       "      <td>2.59</td>\n",
       "      <td>2.37</td>\n",
       "      <td>20.0</td>\n",
       "      <td>120</td>\n",
       "      <td>1.65</td>\n",
       "      <td>0.68</td>\n",
       "      <td>0.53</td>\n",
       "      <td>1.46</td>\n",
       "      <td>9.30</td>\n",
       "      <td>0.60</td>\n",
       "      <td>1.62</td>\n",
       "      <td>840</td>\n",
       "    </tr>\n",
       "    <tr>\n",
       "      <th>177</th>\n",
       "      <td>3</td>\n",
       "      <td>14.13</td>\n",
       "      <td>4.10</td>\n",
       "      <td>2.74</td>\n",
       "      <td>24.5</td>\n",
       "      <td>96</td>\n",
       "      <td>2.05</td>\n",
       "      <td>0.76</td>\n",
       "      <td>0.56</td>\n",
       "      <td>1.35</td>\n",
       "      <td>9.20</td>\n",
       "      <td>0.61</td>\n",
       "      <td>1.60</td>\n",
       "      <td>560</td>\n",
       "    </tr>\n",
       "  </tbody>\n",
       "</table>\n",
       "<p>178 rows × 14 columns</p>\n",
       "</div>"
      ],
      "text/plain": [
       "     Wine  Alcohol  Malic.acid   Ash   Acl   Mg  Phenols  Flavanoids  \\\n",
       "0       1    14.23        1.71  2.43  15.6  127     2.80        3.06   \n",
       "1       1    13.20        1.78  2.14  11.2  100     2.65        2.76   \n",
       "2       1    13.16        2.36  2.67  18.6  101     2.80        3.24   \n",
       "3       1    14.37        1.95  2.50  16.8  113     3.85        3.49   \n",
       "4       1    13.24        2.59  2.87  21.0  118     2.80        2.69   \n",
       "..    ...      ...         ...   ...   ...  ...      ...         ...   \n",
       "173     3    13.71        5.65  2.45  20.5   95     1.68        0.61   \n",
       "174     3    13.40        3.91  2.48  23.0  102     1.80        0.75   \n",
       "175     3    13.27        4.28  2.26  20.0  120     1.59        0.69   \n",
       "176     3    13.17        2.59  2.37  20.0  120     1.65        0.68   \n",
       "177     3    14.13        4.10  2.74  24.5   96     2.05        0.76   \n",
       "\n",
       "     Nonflavanoid.phenols  Proanth  Color.int   Hue    OD  Proline  \n",
       "0                    0.28     2.29       5.64  1.04  3.92     1065  \n",
       "1                    0.26     1.28       4.38  1.05  3.40     1050  \n",
       "2                    0.30     2.81       5.68  1.03  3.17     1185  \n",
       "3                    0.24     2.18       7.80  0.86  3.45     1480  \n",
       "4                    0.39     1.82       4.32  1.04  2.93      735  \n",
       "..                    ...      ...        ...   ...   ...      ...  \n",
       "173                  0.52     1.06       7.70  0.64  1.74      740  \n",
       "174                  0.43     1.41       7.30  0.70  1.56      750  \n",
       "175                  0.43     1.35      10.20  0.59  1.56      835  \n",
       "176                  0.53     1.46       9.30  0.60  1.62      840  \n",
       "177                  0.56     1.35       9.20  0.61  1.60      560  \n",
       "\n",
       "[178 rows x 14 columns]"
      ]
     },
     "execution_count": 4,
     "metadata": {},
     "output_type": "execute_result"
    }
   ],
   "source": [
    "data"
   ]
  },
  {
   "cell_type": "code",
   "execution_count": 109,
   "id": "ed40c059",
   "metadata": {},
   "outputs": [
    {
     "name": "stdout",
     "output_type": "stream",
     "text": [
      "{1, 2, 3}\n"
     ]
    }
   ],
   "source": [
    "print(set(data['Wine']))"
   ]
  },
  {
   "cell_type": "code",
   "execution_count": 28,
   "id": "f81b597e",
   "metadata": {},
   "outputs": [],
   "source": [
    "def cal_sum(list1):\n",
    "  sum = 0\n",
    "  for i in list1:\n",
    "    sum += i\n",
    "\n",
    "  return sum\n"
   ]
  },
  {
   "cell_type": "code",
   "execution_count": 29,
   "id": "6278ed9a",
   "metadata": {},
   "outputs": [],
   "source": [
    "def cal_mean(list1):\n",
    "  return cal_sum(list1)/len(list1)"
   ]
  },
  {
   "cell_type": "code",
   "execution_count": 31,
   "id": "48fdf6ae",
   "metadata": {},
   "outputs": [],
   "source": [
    "def cal_median(list1):\n",
    "  if(len(list1) % 2):\n",
    "    return list1[(int)(len(list1)/2)]\n",
    "  return (list1[(int)((len(list1)/2) - 1)] + list1[(int)(len(list1)/2)])/2"
   ]
  },
  {
   "cell_type": "code",
   "execution_count": 49,
   "id": "071ea6a0",
   "metadata": {},
   "outputs": [],
   "source": [
    "def cal_mode(list1):\n",
    "  list1.sort() \n",
    "  L1=[]\n",
    "  i = 0;\n",
    "  while i < len(list1) :\n",
    "      L1.append(list1.count(list1[i]))\n",
    "      i += 1\n",
    "  d1 = dict(zip(list1, L1))  \n",
    "  d2={k for (k,v) in d1.items() if v == max(L1) }\n",
    "  return d2"
   ]
  },
  {
   "cell_type": "code",
   "execution_count": 50,
   "id": "e3e0fd44",
   "metadata": {},
   "outputs": [],
   "source": [
    "def cal_stdev(list1):\n",
    "  mean = cal_mean(list1)\n",
    "  var = 0\n",
    "  for i in list1:\n",
    "    var += ((i - mean)**2)\n",
    "\n",
    "  var /= len(list1)\n",
    "\n",
    "  return var ** 0.5"
   ]
  },
  {
   "cell_type": "code",
   "execution_count": 51,
   "id": "e67f1acb",
   "metadata": {},
   "outputs": [],
   "source": [
    "mean = list()\n",
    "median=list()\n",
    "mode=list()\n",
    "std = list()"
   ]
  },
  {
   "cell_type": "code",
   "execution_count": 110,
   "id": "ae0acb3e",
   "metadata": {},
   "outputs": [],
   "source": [
    "for i in data.columns:\n",
    "    mean.append(cal_mean(list(data[i])))\n",
    "    mode.append(cal_mode(list(data[i])))\n",
    "    median.append(cal_median(list(data[i])))\n",
    "    std.append(cal_stdev(list(data[i])))"
   ]
  },
  {
   "cell_type": "code",
   "execution_count": 111,
   "id": "36f5e926",
   "metadata": {},
   "outputs": [
    {
     "name": "stdout",
     "output_type": "stream",
     "text": [
      "[1.9382022471910112, 1.9382022471910112, 13.000617977528083, 2.336348314606741, 2.3665168539325854, 19.49494382022472, 99.74157303370787, 2.295112359550562, 2.0292696629213474, 0.36185393258426973, 1.5908988764044953, 5.058089882022473, 0.9574494382022468, 2.6116853932584254, 746.8932584269663, 1.9382022471910112, 13.000617977528083, 2.336348314606741, 2.3665168539325854, 19.49494382022472, 99.74157303370787, 2.295112359550562, 2.0292696629213474, 0.36185393258426973, 1.5908988764044953, 5.058089882022473, 0.9574494382022468, 2.6116853932584254, 746.8932584269663, 1.9382022471910112, 13.000617977528083, 2.336348314606741, 2.3665168539325854, 19.49494382022472, 99.74157303370787, 2.295112359550562, 2.0292696629213474, 0.36185393258426973, 1.5908988764044953, 5.058089882022473, 0.9574494382022468, 2.6116853932584254, 746.8932584269663, 1.9382022471910112, 13.000617977528083, 2.336348314606741, 2.3665168539325854, 19.49494382022472, 99.74157303370787, 2.295112359550562, 2.0292696629213474, 0.36185393258426973, 1.5908988764044953, 5.058089882022473, 0.9574494382022468, 2.6116853932584254, 746.8932584269663]\n"
     ]
    }
   ],
   "source": [
    "print(mean)"
   ]
  },
  {
   "cell_type": "code",
   "execution_count": 102,
   "id": "2d5e46b8",
   "metadata": {},
   "outputs": [],
   "source": [
    "mean2=list()\n",
    "median2=list()\n",
    "mode2 = list()\n",
    "std2=list()"
   ]
  },
  {
   "cell_type": "code",
   "execution_count": 103,
   "id": "cb7b07ec",
   "metadata": {},
   "outputs": [],
   "source": [
    "for i in range(178):\n",
    "    mean2.append(cal_mean(list(data.loc[i])))\n",
    "    mode2.append(cal_mode(list(data.loc[i])))\n",
    "    median2.append(cal_median(list(data.loc[i])))\n",
    "    std2.append(cal_stdev(list(data.loc[i])))"
   ]
  },
  {
   "cell_type": "code",
   "execution_count": 107,
   "id": "8ba7bb97",
   "metadata": {
    "scrolled": true
   },
   "outputs": [
    {
     "name": "stdout",
     "output_type": "stream",
     "text": [
      "[89.0, 85.36428571428571, 95.91571428571429, 117.96357142857143, 64.97785714285713, 115.44500000000001, 102.67571428571429, 104.98428571428572, 85.20142857142856, 85.53285714285714, 119.39999999999999, 101.86928571428572, 104.35714285714286, 92.26285714285714, 121.60857142857142, 105.52285714285713, 104.14999999999999, 93.05642857142857, 131.85142857142858, 72.39142857142858, 68.56642857142857, 66.22, 84.84928571428573, 82.92785714285715, 71.10428571428572, 72.42357142857142, 95.67142857142858, 102.00785714285715, 77.01214285714286, 84.46142857142857, 103.28214285714286, 119.84214285714286, 81.82214285714285, 101.62, 89.84571428571428, 76.90071428571427, 74.265, 89.55285714285715, 83.245, 67.19714285714285, 69.02571428571429, 84.23142857142857, 89.20785714285715, 59.74571428571428, 74.60714285714286, 89.14857142857143, 87.32214285714285, 81.41999999999999, 87.12214285714286, 101.87714285714286, 92.32285714285715, 100.96000000000001, 96.7942857142857, 110.33357142857143, 87.88285714285713, 92.42142857142858, 81.61714285714285, 101.84642857142856, 103.44357142857143, 45.95285714285715, 58.934285714285714, 42.69428571428572, 55.23357142857143, 40.06142857142857, 36.278571428571425, 59.13214285714286, 45.08, 45.69714285714286, 64.75428571428571, 65.42285714285714, 72.94542857142856, 39.77357142857143, 43.92214285714285, 84.98428571428572, 74.28428571428572, 40.73571428571428, 37.54214285714285, 47.10785714285714, 66.55, 44.472857142857144, 29.523571428571433, 60.89214285714286, 54.38071428571429, 46.917857142857144, 47.37214285714286, 42.699999999999996, 45.527142857142856, 50.455714285714286, 58.269999999999996, 53.42285714285714, 43.48142857142857, 42.00428571428571, 44.66357142857142, 30.634285714285717, 35.21857142857142, 82.21071428571429, 57.79785714285714, 40.04714285714285, 57.27214285714285, 39.09428571428572, 61.13928571428572, 49.78928571428571, 42.11071428571429, 39.235, 57.79928571428571, 32.76428571428572, 45.739285714285714, 44.64999999999999, 32.42142857142857, 59.06928571428572, 51.682857142857145, 33.221428571428575, 54.45142857142857, 40.89214285714286, 37.34357142857142, 38.848571428571425, 45.05142857142857, 36.13142857142857, 35.61, 50.04071428571429, 55.324999999999996, 46.611428571428576, 37.690714285714286, 37.46357142857143, 37.12642857142857, 36.87642857142857, 35.23357142857143, 44.16571428571428, 34.682857142857145, 51.021428571428565, 57.113571428571426, 49.03000000000001, 50.970000000000006, 54.29214285714285, 55.97428571428571, 60.07285714285714, 61.54, 47.950714285714284, 51.54714285714285, 53.473571428571425, 53.53142857142858, 65.85357142857143, 48.095000000000006, 49.82642857142857, 72.94857142857143, 70.35285714285715, 39.16857142857143, 54.94214285714286, 57.17285714285714, 51.60142857142857, 48.869285714285716, 46.57357142857143, 42.971428571428575, 59.35785714285714, 56.835, 62.72785714285715, 44.837857142857146, 74.23357142857142, 59.11357142857143, 55.207142857142856, 47.50857142857143, 60.13142857142857, 52.29071428571429, 59.457142857142856, 54.590714285714284, 47.60142857142858, 62.096428571428575, 59.30214285714286, 65.49071428571429, 57.590714285714284, 46.886428571428574, 43.64714278571428, 57.80285714285714, 63.87571428571429, 65.12428571428572, 72.44428571428571, 72.64071428571428, 51.471428571428575, 1.9382022471910112, 13.000617977528083, 2.336348314606741, 2.3665168539325854, 19.49494382022472, 99.74157303370787, 2.295112359550562, 2.0292696629213474, 0.36185393258426973, 1.5908988764044953, 5.058089882022473, 0.9574494382022468, 2.6116853932584254, 746.8932584269663]\n"
     ]
    }
   ],
   "source": [
    "print(mean2)"
   ]
  },
  {
   "cell_type": "code",
   "execution_count": 6,
   "id": "5e83262f",
   "metadata": {},
   "outputs": [],
   "source": [
    "df = data[['Alcohol','Proline']]"
   ]
  },
  {
   "cell_type": "code",
   "execution_count": 27,
   "id": "c3a7ce07",
   "metadata": {},
   "outputs": [
    {
     "data": {
      "text/plain": [
       "pandas.core.series.Series"
      ]
     },
     "execution_count": 27,
     "metadata": {},
     "output_type": "execute_result"
    }
   ],
   "source": [
    "type(df['Alcohol'])"
   ]
  },
  {
   "cell_type": "code",
   "execution_count": 8,
   "id": "e5f61099",
   "metadata": {},
   "outputs": [
    {
     "data": {
      "text/html": [
       "<div>\n",
       "<style scoped>\n",
       "    .dataframe tbody tr th:only-of-type {\n",
       "        vertical-align: middle;\n",
       "    }\n",
       "\n",
       "    .dataframe tbody tr th {\n",
       "        vertical-align: top;\n",
       "    }\n",
       "\n",
       "    .dataframe thead th {\n",
       "        text-align: right;\n",
       "    }\n",
       "</style>\n",
       "<table border=\"1\" class=\"dataframe\">\n",
       "  <thead>\n",
       "    <tr style=\"text-align: right;\">\n",
       "      <th></th>\n",
       "      <th>Alcohol</th>\n",
       "      <th>Proline</th>\n",
       "    </tr>\n",
       "  </thead>\n",
       "  <tbody>\n",
       "    <tr>\n",
       "      <th>Alcohol</th>\n",
       "      <td>1.00000</td>\n",
       "      <td>0.64372</td>\n",
       "    </tr>\n",
       "    <tr>\n",
       "      <th>Proline</th>\n",
       "      <td>0.64372</td>\n",
       "      <td>1.00000</td>\n",
       "    </tr>\n",
       "  </tbody>\n",
       "</table>\n",
       "</div>"
      ],
      "text/plain": [
       "         Alcohol  Proline\n",
       "Alcohol  1.00000  0.64372\n",
       "Proline  0.64372  1.00000"
      ]
     },
     "execution_count": 8,
     "metadata": {},
     "output_type": "execute_result"
    }
   ],
   "source": [
    "df.corr()"
   ]
  },
  {
   "cell_type": "code",
   "execution_count": 10,
   "id": "982eae67",
   "metadata": {},
   "outputs": [
    {
     "data": {
      "text/plain": [
       "<AxesSubplot:>"
      ]
     },
     "execution_count": 10,
     "metadata": {},
     "output_type": "execute_result"
    },
    {
     "data": {
      "image/png": "[encoded data removed]",
      "text/plain": [
       "<Figure size 432x288 with 2 Axes>"
      ]
     },
     "metadata": {
      "needs_background": "light"
     },
     "output_type": "display_data"
    }
   ],
   "source": [
    "sns.heatmap(data=df.corr(),annot=True)"
   ]
  },
  {
   "cell_type": "code",
   "execution_count": 12,
   "id": "a3c9bb28",
   "metadata": {},
   "outputs": [
    {
     "data": {
      "text/plain": [
       "Index(['Wine', 'Alcohol', 'Malic.acid', 'Ash', 'Acl', 'Mg', 'Phenols',\n",
       "       'Flavanoids', 'Nonflavanoid.phenols', 'Proanth', 'Color.int', 'Hue',\n",
       "       'OD', 'Proline'],\n",
       "      dtype='object')"
      ]
     },
     "execution_count": 12,
     "metadata": {},
     "output_type": "execute_result"
    }
   ],
   "source": [
    "data.columns"
   ]
  },
  {
   "cell_type": "code",
   "execution_count": 13,
   "id": "13a9bdab",
   "metadata": {},
   "outputs": [],
   "source": [
    "df2 = data[['Wine', 'Alcohol', 'Malic.acid', 'Ash', 'Acl']]"
   ]
  },
  {
   "cell_type": "code",
   "execution_count": 119,
   "id": "a27b14b4",
   "metadata": {},
   "outputs": [
    {
     "data": {
      "text/html": [
       "<div>\n",
       "<style scoped>\n",
       "    .dataframe tbody tr th:only-of-type {\n",
       "        vertical-align: middle;\n",
       "    }\n",
       "\n",
       "    .dataframe tbody tr th {\n",
       "        vertical-align: top;\n",
       "    }\n",
       "\n",
       "    .dataframe thead th {\n",
       "        text-align: right;\n",
       "    }\n",
       "</style>\n",
       "<table border=\"1\" class=\"dataframe\">\n",
       "  <thead>\n",
       "    <tr style=\"text-align: right;\">\n",
       "      <th></th>\n",
       "      <th>Wine</th>\n",
       "      <th>Alcohol</th>\n",
       "      <th>Malic.acid</th>\n",
       "      <th>Ash</th>\n",
       "      <th>Acl</th>\n",
       "    </tr>\n",
       "  </thead>\n",
       "  <tbody>\n",
       "    <tr>\n",
       "      <th>0</th>\n",
       "      <td>1</td>\n",
       "      <td>14.23</td>\n",
       "      <td>1.71</td>\n",
       "      <td>2.43</td>\n",
       "      <td>15.6</td>\n",
       "    </tr>\n",
       "    <tr>\n",
       "      <th>1</th>\n",
       "      <td>1</td>\n",
       "      <td>13.20</td>\n",
       "      <td>1.78</td>\n",
       "      <td>2.14</td>\n",
       "      <td>11.2</td>\n",
       "    </tr>\n",
       "    <tr>\n",
       "      <th>2</th>\n",
       "      <td>1</td>\n",
       "      <td>13.16</td>\n",
       "      <td>2.36</td>\n",
       "      <td>2.67</td>\n",
       "      <td>18.6</td>\n",
       "    </tr>\n",
       "    <tr>\n",
       "      <th>3</th>\n",
       "      <td>1</td>\n",
       "      <td>14.37</td>\n",
       "      <td>1.95</td>\n",
       "      <td>2.50</td>\n",
       "      <td>16.8</td>\n",
       "    </tr>\n",
       "    <tr>\n",
       "      <th>4</th>\n",
       "      <td>1</td>\n",
       "      <td>13.24</td>\n",
       "      <td>2.59</td>\n",
       "      <td>2.87</td>\n",
       "      <td>21.0</td>\n",
       "    </tr>\n",
       "    <tr>\n",
       "      <th>...</th>\n",
       "      <td>...</td>\n",
       "      <td>...</td>\n",
       "      <td>...</td>\n",
       "      <td>...</td>\n",
       "      <td>...</td>\n",
       "    </tr>\n",
       "    <tr>\n",
       "      <th>173</th>\n",
       "      <td>3</td>\n",
       "      <td>13.71</td>\n",
       "      <td>5.65</td>\n",
       "      <td>2.45</td>\n",
       "      <td>20.5</td>\n",
       "    </tr>\n",
       "    <tr>\n",
       "      <th>174</th>\n",
       "      <td>3</td>\n",
       "      <td>13.40</td>\n",
       "      <td>3.91</td>\n",
       "      <td>2.48</td>\n",
       "      <td>23.0</td>\n",
       "    </tr>\n",
       "    <tr>\n",
       "      <th>175</th>\n",
       "      <td>3</td>\n",
       "      <td>13.27</td>\n",
       "      <td>4.28</td>\n",
       "      <td>2.26</td>\n",
       "      <td>20.0</td>\n",
       "    </tr>\n",
       "    <tr>\n",
       "      <th>176</th>\n",
       "      <td>3</td>\n",
       "      <td>13.17</td>\n",
       "      <td>2.59</td>\n",
       "      <td>2.37</td>\n",
       "      <td>20.0</td>\n",
       "    </tr>\n",
       "    <tr>\n",
       "      <th>177</th>\n",
       "      <td>3</td>\n",
       "      <td>14.13</td>\n",
       "      <td>4.10</td>\n",
       "      <td>2.74</td>\n",
       "      <td>24.5</td>\n",
       "    </tr>\n",
       "  </tbody>\n",
       "</table>\n",
       "<p>178 rows × 5 columns</p>\n",
       "</div>"
      ],
      "text/plain": [
       "     Wine  Alcohol  Malic.acid   Ash   Acl\n",
       "0       1    14.23        1.71  2.43  15.6\n",
       "1       1    13.20        1.78  2.14  11.2\n",
       "2       1    13.16        2.36  2.67  18.6\n",
       "3       1    14.37        1.95  2.50  16.8\n",
       "4       1    13.24        2.59  2.87  21.0\n",
       "..    ...      ...         ...   ...   ...\n",
       "173     3    13.71        5.65  2.45  20.5\n",
       "174     3    13.40        3.91  2.48  23.0\n",
       "175     3    13.27        4.28  2.26  20.0\n",
       "176     3    13.17        2.59  2.37  20.0\n",
       "177     3    14.13        4.10  2.74  24.5\n",
       "\n",
       "[178 rows x 5 columns]"
      ]
     },
     "execution_count": 119,
     "metadata": {},
     "output_type": "execute_result"
    }
   ],
   "source": [
    "df2"
   ]
  },
  {
   "cell_type": "code",
   "execution_count": 120,
   "id": "915e2cc4",
   "metadata": {},
   "outputs": [],
   "source": [
    "n = df2.to_numpy()"
   ]
  },
  {
   "cell_type": "code",
   "execution_count": 121,
   "id": "ae736df3",
   "metadata": {},
   "outputs": [
    {
     "data": {
      "text/plain": [
       "array([[ 1.  , 14.23,  1.71,  2.43, 15.6 ],\n",
       "       [ 1.  , 13.2 ,  1.78,  2.14, 11.2 ],\n",
       "       [ 1.  , 13.16,  2.36,  2.67, 18.6 ],\n",
       "       [ 1.  , 14.37,  1.95,  2.5 , 16.8 ],\n",
       "       [ 1.  , 13.24,  2.59,  2.87, 21.  ],\n",
       "       [ 1.  , 14.2 ,  1.76,  2.45, 15.2 ],\n",
       "       [ 1.  , 14.39,  1.87,  2.45, 14.6 ],\n",
       "       [ 1.  , 14.06,  2.15,  2.61, 17.6 ],\n",
       "       [ 1.  , 14.83,  1.64,  2.17, 14.  ],\n",
       "       [ 1.  , 13.86,  1.35,  2.27, 16.  ],\n",
       "       [ 1.  , 14.1 ,  2.16,  2.3 , 18.  ],\n",
       "       [ 1.  , 14.12,  1.48,  2.32, 16.8 ],\n",
       "       [ 1.  , 13.75,  1.73,  2.41, 16.  ],\n",
       "       [ 1.  , 14.75,  1.73,  2.39, 11.4 ],\n",
       "       [ 1.  , 14.38,  1.87,  2.38, 12.  ],\n",
       "       [ 1.  , 13.63,  1.81,  2.7 , 17.2 ],\n",
       "       [ 1.  , 14.3 ,  1.92,  2.72, 20.  ],\n",
       "       [ 1.  , 13.83,  1.57,  2.62, 20.  ],\n",
       "       [ 1.  , 14.19,  1.59,  2.48, 16.5 ],\n",
       "       [ 1.  , 13.64,  3.1 ,  2.56, 15.2 ],\n",
       "       [ 1.  , 14.06,  1.63,  2.28, 16.  ],\n",
       "       [ 1.  , 12.93,  3.8 ,  2.65, 18.6 ],\n",
       "       [ 1.  , 13.71,  1.86,  2.36, 16.6 ],\n",
       "       [ 1.  , 12.85,  1.6 ,  2.52, 17.8 ],\n",
       "       [ 1.  , 13.5 ,  1.81,  2.61, 20.  ],\n",
       "       [ 1.  , 13.05,  2.05,  3.22, 25.  ],\n",
       "       [ 1.  , 13.39,  1.77,  2.62, 16.1 ],\n",
       "       [ 1.  , 13.3 ,  1.72,  2.14, 17.  ],\n",
       "       [ 1.  , 13.87,  1.9 ,  2.8 , 19.4 ],\n",
       "       [ 1.  , 14.02,  1.68,  2.21, 16.  ],\n",
       "       [ 1.  , 13.73,  1.5 ,  2.7 , 22.5 ],\n",
       "       [ 1.  , 13.58,  1.66,  2.36, 19.1 ],\n",
       "       [ 1.  , 13.68,  1.83,  2.36, 17.2 ],\n",
       "       [ 1.  , 13.76,  1.53,  2.7 , 19.5 ],\n",
       "       [ 1.  , 13.51,  1.8 ,  2.65, 19.  ],\n",
       "       [ 1.  , 13.48,  1.81,  2.41, 20.5 ],\n",
       "       [ 1.  , 13.28,  1.64,  2.84, 15.5 ],\n",
       "       [ 1.  , 13.05,  1.65,  2.55, 18.  ],\n",
       "       [ 1.  , 13.07,  1.5 ,  2.1 , 15.5 ],\n",
       "       [ 1.  , 14.22,  3.99,  2.51, 13.2 ],\n",
       "       [ 1.  , 13.56,  1.71,  2.31, 16.2 ],\n",
       "       [ 1.  , 13.41,  3.84,  2.12, 18.8 ],\n",
       "       [ 1.  , 13.88,  1.89,  2.59, 15.  ],\n",
       "       [ 1.  , 13.24,  3.98,  2.29, 17.5 ],\n",
       "       [ 1.  , 13.05,  1.77,  2.1 , 17.  ],\n",
       "       [ 1.  , 14.21,  4.04,  2.44, 18.9 ],\n",
       "       [ 1.  , 14.38,  3.59,  2.28, 16.  ],\n",
       "       [ 1.  , 13.9 ,  1.68,  2.12, 16.  ],\n",
       "       [ 1.  , 14.1 ,  2.02,  2.4 , 18.8 ],\n",
       "       [ 1.  , 13.94,  1.73,  2.27, 17.4 ],\n",
       "       [ 1.  , 13.05,  1.73,  2.04, 12.4 ],\n",
       "       [ 1.  , 13.83,  1.65,  2.6 , 17.2 ],\n",
       "       [ 1.  , 13.82,  1.75,  2.42, 14.  ],\n",
       "       [ 1.  , 13.77,  1.9 ,  2.68, 17.1 ],\n",
       "       [ 1.  , 13.74,  1.67,  2.25, 16.4 ],\n",
       "       [ 1.  , 13.56,  1.73,  2.46, 20.5 ],\n",
       "       [ 1.  , 14.22,  1.7 ,  2.3 , 16.3 ],\n",
       "       [ 1.  , 13.29,  1.97,  2.68, 16.8 ],\n",
       "       [ 1.  , 13.72,  1.43,  2.5 , 16.7 ],\n",
       "       [ 2.  , 12.37,  0.94,  1.36, 10.6 ],\n",
       "       [ 2.  , 12.33,  1.1 ,  2.28, 16.  ],\n",
       "       [ 2.  , 12.64,  1.36,  2.02, 16.8 ],\n",
       "       [ 2.  , 13.67,  1.25,  1.92, 18.  ],\n",
       "       [ 2.  , 12.37,  1.13,  2.16, 19.  ],\n",
       "       [ 2.  , 12.17,  1.45,  2.53, 19.  ],\n",
       "       [ 2.  , 12.37,  1.21,  2.56, 18.1 ],\n",
       "       [ 2.  , 13.11,  1.01,  1.7 , 15.  ],\n",
       "       [ 2.  , 12.37,  1.17,  1.92, 19.6 ],\n",
       "       [ 2.  , 13.34,  0.94,  2.36, 17.  ],\n",
       "       [ 2.  , 12.21,  1.19,  1.75, 16.8 ],\n",
       "       [ 2.  , 12.29,  1.61,  2.21, 20.4 ],\n",
       "       [ 2.  , 13.86,  1.51,  2.67, 25.  ],\n",
       "       [ 2.  , 13.49,  1.66,  2.24, 24.  ],\n",
       "       [ 2.  , 12.99,  1.67,  2.6 , 30.  ],\n",
       "       [ 2.  , 11.96,  1.09,  2.3 , 21.  ],\n",
       "       [ 2.  , 11.66,  1.88,  1.92, 16.  ],\n",
       "       [ 2.  , 13.03,  0.9 ,  1.71, 16.  ],\n",
       "       [ 2.  , 11.84,  2.89,  2.23, 18.  ],\n",
       "       [ 2.  , 12.33,  0.99,  1.95, 14.8 ],\n",
       "       [ 2.  , 12.7 ,  3.87,  2.4 , 23.  ],\n",
       "       [ 2.  , 12.  ,  0.92,  2.  , 19.  ],\n",
       "       [ 2.  , 12.72,  1.81,  2.2 , 18.8 ],\n",
       "       [ 2.  , 12.08,  1.13,  2.51, 24.  ],\n",
       "       [ 2.  , 13.05,  3.86,  2.32, 22.5 ],\n",
       "       [ 2.  , 11.84,  0.89,  2.58, 18.  ],\n",
       "       [ 2.  , 12.67,  0.98,  2.24, 18.  ],\n",
       "       [ 2.  , 12.16,  1.61,  2.31, 22.8 ],\n",
       "       [ 2.  , 11.65,  1.67,  2.62, 26.  ],\n",
       "       [ 2.  , 11.64,  2.06,  2.46, 21.6 ],\n",
       "       [ 2.  , 12.08,  1.33,  2.3 , 23.6 ],\n",
       "       [ 2.  , 12.08,  1.83,  2.32, 18.5 ],\n",
       "       [ 2.  , 12.  ,  1.51,  2.42, 22.  ],\n",
       "       [ 2.  , 12.69,  1.53,  2.26, 20.7 ],\n",
       "       [ 2.  , 12.29,  2.83,  2.22, 18.  ],\n",
       "       [ 2.  , 11.62,  1.99,  2.28, 18.  ],\n",
       "       [ 2.  , 12.47,  1.52,  2.2 , 19.  ],\n",
       "       [ 2.  , 11.81,  2.12,  2.74, 21.5 ],\n",
       "       [ 2.  , 12.29,  1.41,  1.98, 16.  ],\n",
       "       [ 2.  , 12.37,  1.07,  2.1 , 18.5 ],\n",
       "       [ 2.  , 12.29,  3.17,  2.21, 18.  ],\n",
       "       [ 2.  , 12.08,  2.08,  1.7 , 17.5 ],\n",
       "       [ 2.  , 12.6 ,  1.34,  1.9 , 18.5 ],\n",
       "       [ 2.  , 12.34,  2.45,  2.46, 21.  ],\n",
       "       [ 2.  , 11.82,  1.72,  1.88, 19.5 ],\n",
       "       [ 2.  , 12.51,  1.73,  1.98, 20.5 ],\n",
       "       [ 2.  , 12.42,  2.55,  2.27, 22.  ],\n",
       "       [ 2.  , 12.25,  1.73,  2.12, 19.  ],\n",
       "       [ 2.  , 12.72,  1.75,  2.28, 22.5 ],\n",
       "       [ 2.  , 12.22,  1.29,  1.94, 19.  ],\n",
       "       [ 2.  , 11.61,  1.35,  2.7 , 20.  ],\n",
       "       [ 2.  , 11.46,  3.74,  1.82, 19.5 ],\n",
       "       [ 2.  , 12.52,  2.43,  2.17, 21.  ],\n",
       "       [ 2.  , 11.76,  2.68,  2.92, 20.  ],\n",
       "       [ 2.  , 11.41,  0.74,  2.5 , 21.  ],\n",
       "       [ 2.  , 12.08,  1.39,  2.5 , 22.5 ],\n",
       "       [ 2.  , 11.03,  1.51,  2.2 , 21.5 ],\n",
       "       [ 2.  , 11.82,  1.47,  1.99, 20.8 ],\n",
       "       [ 2.  , 12.42,  1.61,  2.19, 22.5 ],\n",
       "       [ 2.  , 12.77,  3.43,  1.98, 16.  ],\n",
       "       [ 2.  , 12.  ,  3.43,  2.  , 19.  ],\n",
       "       [ 2.  , 11.45,  2.4 ,  2.42, 20.  ],\n",
       "       [ 2.  , 11.56,  2.05,  3.23, 28.5 ],\n",
       "       [ 2.  , 12.42,  4.43,  2.73, 26.5 ],\n",
       "       [ 2.  , 13.05,  5.8 ,  2.13, 21.5 ],\n",
       "       [ 2.  , 11.87,  4.31,  2.39, 21.  ],\n",
       "       [ 2.  , 12.07,  2.16,  2.17, 21.  ],\n",
       "       [ 2.  , 12.43,  1.53,  2.29, 21.5 ],\n",
       "       [ 2.  , 11.79,  2.13,  2.78, 28.5 ],\n",
       "       [ 2.  , 12.37,  1.63,  2.3 , 24.5 ],\n",
       "       [ 2.  , 12.04,  4.3 ,  2.38, 22.  ],\n",
       "       [ 3.  , 12.86,  1.35,  2.32, 18.  ],\n",
       "       [ 3.  , 12.88,  2.99,  2.4 , 20.  ],\n",
       "       [ 3.  , 12.81,  2.31,  2.4 , 24.  ],\n",
       "       [ 3.  , 12.7 ,  3.55,  2.36, 21.5 ],\n",
       "       [ 3.  , 12.51,  1.24,  2.25, 17.5 ],\n",
       "       [ 3.  , 12.6 ,  2.46,  2.2 , 18.5 ],\n",
       "       [ 3.  , 12.25,  4.72,  2.54, 21.  ],\n",
       "       [ 3.  , 12.53,  5.51,  2.64, 25.  ],\n",
       "       [ 3.  , 13.49,  3.59,  2.19, 19.5 ],\n",
       "       [ 3.  , 12.84,  2.96,  2.61, 24.  ],\n",
       "       [ 3.  , 12.93,  2.81,  2.7 , 21.  ],\n",
       "       [ 3.  , 13.36,  2.56,  2.35, 20.  ],\n",
       "       [ 3.  , 13.52,  3.17,  2.72, 23.5 ],\n",
       "       [ 3.  , 13.62,  4.95,  2.35, 20.  ],\n",
       "       [ 3.  , 12.25,  3.88,  2.2 , 18.5 ],\n",
       "       [ 3.  , 13.16,  3.57,  2.15, 21.  ],\n",
       "       [ 3.  , 13.88,  5.04,  2.23, 20.  ],\n",
       "       [ 3.  , 12.87,  4.61,  2.48, 21.5 ],\n",
       "       [ 3.  , 13.32,  3.24,  2.38, 21.5 ],\n",
       "       [ 3.  , 13.08,  3.9 ,  2.36, 21.5 ],\n",
       "       [ 3.  , 13.5 ,  3.12,  2.62, 24.  ],\n",
       "       [ 3.  , 12.79,  2.67,  2.48, 22.  ],\n",
       "       [ 3.  , 13.11,  1.9 ,  2.75, 25.5 ],\n",
       "       [ 3.  , 13.23,  3.3 ,  2.28, 18.5 ],\n",
       "       [ 3.  , 12.58,  1.29,  2.1 , 20.  ],\n",
       "       [ 3.  , 13.17,  5.19,  2.32, 22.  ],\n",
       "       [ 3.  , 13.84,  4.12,  2.38, 19.5 ],\n",
       "       [ 3.  , 12.45,  3.03,  2.64, 27.  ],\n",
       "       [ 3.  , 14.34,  1.68,  2.7 , 25.  ],\n",
       "       [ 3.  , 13.48,  1.67,  2.64, 22.5 ],\n",
       "       [ 3.  , 12.36,  3.83,  2.38, 21.  ],\n",
       "       [ 3.  , 13.69,  3.26,  2.54, 20.  ],\n",
       "       [ 3.  , 12.85,  3.27,  2.58, 22.  ],\n",
       "       [ 3.  , 12.96,  3.45,  2.35, 18.5 ],\n",
       "       [ 3.  , 13.78,  2.76,  2.3 , 22.  ],\n",
       "       [ 3.  , 13.73,  4.36,  2.26, 22.5 ],\n",
       "       [ 3.  , 13.45,  3.7 ,  2.6 , 23.  ],\n",
       "       [ 3.  , 12.82,  3.37,  2.3 , 19.5 ],\n",
       "       [ 3.  , 13.58,  2.58,  2.69, 24.5 ],\n",
       "       [ 3.  , 13.4 ,  4.6 ,  2.86, 25.  ],\n",
       "       [ 3.  , 12.2 ,  3.03,  2.32, 19.  ],\n",
       "       [ 3.  , 12.77,  2.39,  2.28, 19.5 ],\n",
       "       [ 3.  , 14.16,  2.51,  2.48, 20.  ],\n",
       "       [ 3.  , 13.71,  5.65,  2.45, 20.5 ],\n",
       "       [ 3.  , 13.4 ,  3.91,  2.48, 23.  ],\n",
       "       [ 3.  , 13.27,  4.28,  2.26, 20.  ],\n",
       "       [ 3.  , 13.17,  2.59,  2.37, 20.  ],\n",
       "       [ 3.  , 14.13,  4.1 ,  2.74, 24.5 ]])"
      ]
     },
     "execution_count": 121,
     "metadata": {},
     "output_type": "execute_result"
    }
   ],
   "source": [
    "n"
   ]
  },
  {
   "cell_type": "code",
   "execution_count": 122,
   "id": "40847a42",
   "metadata": {},
   "outputs": [
    {
     "name": "stdout",
     "output_type": "stream",
     "text": [
      "[[52.77543  41.68398  56.16181  ... 54.30739  56.23347  65.23498 ]\n",
      " [41.68398  34.12388  42.83651  ... 40.89524  42.33492  48.21238 ]\n",
      " [56.16181  42.83651  61.80682  ... 60.552555 62.47424  73.826585]\n",
      " ...\n",
      " [54.30739  40.89524  60.552555 ... 60.49492  62.01306  73.81134 ]\n",
      " [56.23347  42.33492  62.47424  ... 62.01306  64.10963  75.87267 ]\n",
      " [65.23498  48.21238  73.826585 ... 73.81134  75.87267  90.83908 ]]\n"
     ]
    }
   ],
   "source": [
    "print(np.cov(n))"
   ]
  },
  {
   "cell_type": "code",
   "execution_count": 123,
   "id": "3d58eeb4",
   "metadata": {},
   "outputs": [
    {
     "name": "stdout",
     "output_type": "stream",
     "text": [
      "(178, 178)\n"
     ]
    }
   ],
   "source": [
    "print(np.cov(n).shape)"
   ]
  },
  {
   "cell_type": "code",
   "execution_count": 124,
   "id": "ba90c4d2",
   "metadata": {},
   "outputs": [],
   "source": [
    "m = np.cov(n).transpose()"
   ]
  },
  {
   "cell_type": "code",
   "execution_count": 125,
   "id": "777c78b9",
   "metadata": {},
   "outputs": [
    {
     "name": "stdout",
     "output_type": "stream",
     "text": [
      "(178, 178)\n"
     ]
    }
   ],
   "source": [
    "print(m.shape)"
   ]
  },
  {
   "cell_type": "code",
   "execution_count": null,
   "id": "52b770b2",
   "metadata": {},
   "outputs": [],
   "source": []
  }
 ],
 "metadata": {
  "kernelspec": {
   "display_name": "Python 3 (ipykernel)",
   "language": "python",
   "name": "python3"
  },
  "language_info": {
   "codemirror_mode": {
    "name": "ipython",
    "version": 3
   },
   "file_extension": ".py",
   "mimetype": "text/x-python",
   "name": "python",
   "nbconvert_exporter": "python",
   "pygments_lexer": "ipython3",
   "version": "3.9.12"
  }
 },
 "nbformat": 4,
 "nbformat_minor": 5
}
