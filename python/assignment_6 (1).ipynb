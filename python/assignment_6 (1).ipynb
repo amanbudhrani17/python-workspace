{
 "cells": [
  {
   "cell_type": "code",
   "execution_count": 23,
   "id": "cad73e74",
   "metadata": {
    "id": "cad73e74"
   },
   "outputs": [],
   "source": [
    "#question 1\n",
    "import numpy as np\n",
    "import pandas as pd\n",
    "    "
   ]
  },
  {
   "cell_type": "code",
   "execution_count": 24,
   "id": "19abfdec",
   "metadata": {
    "id": "19abfdec"
   },
   "outputs": [],
   "source": [
    "w1,w2,bias = 0.1,0.2,-0.5\n",
    "threshold = 0.5\n",
    "learning_rates = [0.0001,0.001,0.002,0.005]"
   ]
  },
  {
   "cell_type": "code",
   "execution_count": 25,
   "id": "72bfdd7b",
   "metadata": {
    "id": "72bfdd7b"
   },
   "outputs": [],
   "source": [
    "training_accuracy1=[]\n",
    "training_accuracy2=[]\n",
    "training_accuracy3=[]\n",
    "training_accuracy4=[]\n",
    "training_accuracy5=[]"
   ]
  },
  {
   "cell_type": "code",
   "execution_count": 26,
   "id": "ad941fd7",
   "metadata": {
    "id": "ad941fd7"
   },
   "outputs": [],
   "source": [
    "epochs = 100"
   ]
  },
  {
   "cell_type": "code",
   "execution_count": 27,
   "id": "b1413740",
   "metadata": {
    "id": "b1413740"
   },
   "outputs": [],
   "source": [
    "#OR implementation"
   ]
  },
  {
   "cell_type": "code",
   "execution_count": 28,
   "id": "73837ee1",
   "metadata": {
    "id": "73837ee1"
   },
   "outputs": [],
   "source": [
    "import matplotlib.pyplot as plt"
   ]
  },
  {
   "cell_type": "code",
   "execution_count": 29,
   "id": "bb06c3b5",
   "metadata": {
    "id": "bb06c3b5"
   },
   "outputs": [],
   "source": [
    "for i in learning_rates :\n",
    "    x = []\n",
    "    y = []\n",
    "    for j in range(epochs):\n",
    "        if(w1*0+w2*0+bias>0.5):\n",
    "            o,t = 1,0\n",
    "        else:\n",
    "            o,t = 0,0\n",
    "        if(o!=t):\n",
    "            w1 = w1+(i*(t-o)*0)\n",
    "            w2 = w2+(i*(t-o)*0)\n",
    "        if(w1*0+w2*1+bias>0.5):\n",
    "            o,t = 1,1\n",
    "        else:\n",
    "            o,t = 0,1\n",
    "        if(o!=t):\n",
    "            w1 = w1+(i*(t-o)*0)\n",
    "            w2 = w2+(i*(t-o)*1)\n",
    "        if(w1*1+w2*0+bias>0.5):\n",
    "            o,t = 1,1\n",
    "        else:\n",
    "            o,t = 0,1\n",
    "        if(o!=t):\n",
    "            w1 = w1+(i*(t-o)*1)\n",
    "            w2 = w2+(i*(t-o)*0)\n",
    "        if(w1*1+w2*1+bias>0.5):\n",
    "            o,t = 1,1\n",
    "        else:\n",
    "            o,t = 0,1\n",
    "        if(o!=t):\n",
    "            w1 = w1+(i*(t-o)*1)\n",
    "            w2 = w2+(i*(t-o)*1)\n",
    "        count = 0        \n",
    "        if(w1*0+w2*0+bias<=0.5):\n",
    "            count+=1\n",
    "        if(w1*0+w2*1+bias>0.5):\n",
    "            count+=1\n",
    "        if(w1*1+w2*0+bias>0.5):\n",
    "            count+=1\n",
    "        if(w1*1+w2*1+bias>0.5):\n",
    "            count+=1\n",
    "        training_acc = (count/4*100)\n",
    "        x.append(j)\n",
    "        if (i==0.0001):\n",
    "            training_accuracy1.append(training_acc)\n",
    "        elif (i==0.001):\n",
    "            training_accuracy2.append(training_acc)\n",
    "        elif (i==0.002):\n",
    "            training_accuracy3.append(training_acc)\n",
    "        elif (i==0.005):\n",
    "            training_accuracy4.append(training_acc)"
   ]
  },
  {
   "cell_type": "code",
   "execution_count": 30,
   "id": "d441362f",
   "metadata": {
    "colab": {
     "base_uri": "https://localhost:8080/",
     "height": 298
    },
    "id": "d441362f",
    "outputId": "67b3b0c8-dd4d-4d5e-fd49-d988045edc8f"
   },
   "outputs": [
    {
     "data": {
      "text/plain": [
       "Text(0.5, 1.0, 'learning_rate = 0.004')"
      ]
     },
     "execution_count": 30,
     "metadata": {},
     "output_type": "execute_result"
    },
    {
     "data": {
      "image/png": "[encoded data removed]",
      "text/plain": [
       "<Figure size 432x288 with 4 Axes>"
      ]
     },
     "metadata": {
      "needs_background": "light"
     },
     "output_type": "display_data"
    }
   ],
   "source": [
    "figure, axis = plt.subplots(2, 2)\n",
    "axis[0, 0].plot(x, training_accuracy1)\n",
    "axis[0, 0].set_title(\"learning_rate = 0.0002\")\n",
    "axis[0, 1].plot(x, training_accuracy2)\n",
    "axis[0, 1].set_title(\"learning_rate = 0.002\")\n",
    "axis[1, 0].plot(x, training_accuracy3)\n",
    "axis[1, 0].set_title(\"learning_rate = 0.001\")\n",
    "axis[1, 1].plot(x, training_accuracy4)\n",
    "axis[1, 1].set_title(\"learning_rate = 0.004\")"
   ]
  },
  {
   "cell_type": "code",
   "execution_count": 31,
   "id": "8e7fb8b8",
   "metadata": {
    "id": "8e7fb8b8"
   },
   "outputs": [],
   "source": [
    "# and implementation\n",
    "training_accuracy1=[]\n",
    "training_accuracy2=[]\n",
    "training_accuracy3=[]\n",
    "training_accuracy4=[]\n",
    "training_accuracy5=[]"
   ]
  },
  {
   "cell_type": "code",
   "execution_count": 32,
   "id": "d83ba77d",
   "metadata": {
    "id": "d83ba77d"
   },
   "outputs": [],
   "source": [
    "for i in learning_rates :\n",
    "    x = []\n",
    "    y = []\n",
    "    for j in range(epochs):\n",
    "        if(w1*0+w2*0+bias>0.5):\n",
    "            o,t = 1,0\n",
    "        else:\n",
    "            o,t = 0,0\n",
    "        if(o!=t):\n",
    "            w1 = w1+(i*(t-o)*0)\n",
    "            w2 = w2+(i*(t-o)*0)\n",
    "        if(w1*0+w2*1+bias>0.5):\n",
    "            o,t = 1,0\n",
    "        else:\n",
    "            o,t = 0,0\n",
    "        if(o!=t):\n",
    "            w1 = w1+(i*(t-o)*0)\n",
    "            w2 = w2+(i*(t-o)*1)\n",
    "        if(w1*1+w2*0+bias>0.5):\n",
    "            o,t = 1,0\n",
    "        else:\n",
    "            o,t = 0,0\n",
    "        if(o!=t):\n",
    "            w1 = w1+(i*(t-o)*1)\n",
    "            w2 = w2+(i*(t-o)*0)\n",
    "        if(w1*1+w2*1+bias>0.5):\n",
    "            o,t = 1,1\n",
    "        else:\n",
    "            o,t = 0,1\n",
    "        if(o!=t):\n",
    "            w1 = w1+(i*(t-o)*1)\n",
    "            w2 = w2+(i*(t-o)*1)\n",
    "        count = 0        \n",
    "        if(w1*0+w2*0+bias<=0.5):\n",
    "            count+=1\n",
    "        if(w1*0+w2*1+bias>0.5):\n",
    "            count+=1\n",
    "        if(w1*1+w2*0+bias>0.5):\n",
    "            count+=1\n",
    "        if(w1*1+w2*1+bias>0.5):\n",
    "            count+=1\n",
    "        training_acc = (count/4*100)\n",
    "        x.append(j)\n",
    "        if (i==0.0001):\n",
    "            training_accuracy1.append(training_acc)\n",
    "        elif (i==0.001):\n",
    "            training_accuracy2.append(training_acc)\n",
    "        elif (i==0.002):\n",
    "            training_accuracy3.append(training_acc)\n",
    "        elif (i==0.005):\n",
    "            training_accuracy4.append(training_acc)"
   ]
  },
  {
   "cell_type": "code",
   "execution_count": 33,
   "id": "f28deedc",
   "metadata": {
    "colab": {
     "base_uri": "https://localhost:8080/",
     "height": 298
    },
    "id": "f28deedc",
    "outputId": "ab2646ea-ec6f-43be-f644-16ac0b9ec7de"
   },
   "outputs": [
    {
     "data": {
      "text/plain": [
       "Text(0.5, 1.0, 'learning_rate = 0.005')"
      ]
     },
     "execution_count": 33,
     "metadata": {},
     "output_type": "execute_result"
    },
    {
     "data": {
      "image/png": "[encoded data removed]",
      "text/plain": [
       "<Figure size 432x288 with 4 Axes>"
      ]
     },
     "metadata": {
      "needs_background": "light"
     },
     "output_type": "display_data"
    }
   ],
   "source": [
    "figure, axis = plt.subplots(2, 2)\n",
    "axis[0, 0].plot(x, training_accuracy1)\n",
    "axis[0, 0].set_title(\"learning_rate = 0.0001\")\n",
    "axis[0, 1].plot(x, training_accuracy2)\n",
    "axis[0, 1].set_title(\"learning_rate = 0.001\")\n",
    "axis[1, 0].plot(x, training_accuracy3)\n",
    "axis[1, 0].set_title(\"learning_rate = 0.002\")\n",
    "axis[1, 1].plot(x, training_accuracy4)\n",
    "axis[1, 1].set_title(\"learning_rate = 0.005\")"
   ]
  },
  {
   "cell_type": "code",
   "execution_count": 34,
   "id": "b37a2560",
   "metadata": {
    "id": "b37a2560"
   },
   "outputs": [],
   "source": [
    "#question 2"
   ]
  },
  {
   "cell_type": "code",
   "execution_count": 35,
   "id": "590684c4",
   "metadata": {
    "id": "590684c4"
   },
   "outputs": [],
   "source": [
    "X = np.array([0.3,0.8])\n",
    "y = np.array([0.05,0.6])"
   ]
  },
  {
   "cell_type": "code",
   "execution_count": 36,
   "id": "06182198",
   "metadata": {
    "colab": {
     "base_uri": "https://localhost:8080/"
    },
    "id": "06182198",
    "outputId": "2f28d930-0d90-4dff-f297-32af7507f7f8"
   },
   "outputs": [
    {
     "name": "stdout",
     "output_type": "stream",
     "text": [
      "Loss: 0.3350972828110893\n",
      "Loss: 0.03968520701041714\n",
      "Loss: 0.03945346532019493\n",
      "Loss: 0.0394451820966633\n",
      "Loss: 0.03944488876016147\n",
      "Loss: 0.039444878375555555\n",
      "Loss: 0.039444878007927245\n",
      "Loss: 0.039444877994912766\n",
      "Loss: 0.039444877994452066\n",
      "Loss: 0.03944487799443579\n",
      "Input: [0.3 0.8]\n",
      "Actual Output: [0.05 0.6 ]\n",
      "Mean sqaure Error: 0.03944487799443522\n",
      "\n",
      "\n",
      "Predicted Output: [0.25485024 0.40783826]\n"
     ]
    }
   ],
   "source": [
    "class NeuralNetwork(object):\n",
    "    def __init__(self):\n",
    "        #parameters\n",
    "        self.inputSize = 2\n",
    "        self.outputSize = 2\n",
    "        self.hiddenSize = 2\n",
    "        \n",
    "        #weights\n",
    "        self.W1 = np.array([[0.1,0.3],[0.25,0.8]]) # (2x2) weight matrix from input to hidden layer\n",
    "        self.W2 = np.array([[0.2,0.6],[0.4,0.7]]) # (2x2) weight matrix from hidden to output layer\n",
    "        \n",
    "    def feedForward(self, X):\n",
    "        #forward propogation through the network\n",
    "        self.z = np.dot(X, self.W1)+np.array([1,1]) #dot product of X (input) and first set of weights (2x2)\n",
    "        self.z2 = self.sigmoid(self.z) #activation function\n",
    "        self.z3 = np.dot(self.z2, self.W2)+np.array([1,1]) #dot product of hidden layer (z2) and second set of weights (2x2)\n",
    "        output = self.sigmoid(self.z3)\n",
    "        return output\n",
    "        \n",
    "    def sigmoid(self,s):\n",
    "        for i in range(len(s)):\n",
    "            s[i] = 1/(1 + np.exp(-s[i]))\n",
    "        return s\n",
    "    \n",
    "    def backward(self, X, y, output):\n",
    "        #backward propogate through the network\n",
    "        self.output_error = y - output # error in output\n",
    "        self.output_delta = self.output_error * self.sigmoid(output)\n",
    "        \n",
    "        self.z2_error = self.output_delta.dot(self.W2.T) #z2 error: how much our hidden layer weights contribute to output error\n",
    "        self.z2_delta = self.z2_error * self.sigmoid(self.z2) #applying derivative of sigmoid to z2 error\n",
    "        \n",
    "        self.W1 += X.T.dot(self.z2_delta) # adjusting first set (input -> hidden) weights\n",
    "        self.W2 += self.z2.T.dot(self.output_delta) # adjusting second set (hidden -> output) weights\n",
    "        \n",
    "    def train(self, X, y):\n",
    "        output = self.feedForward(X)\n",
    "        self.backward(X, y, output)\n",
    "        \n",
    "NN = NeuralNetwork()\n",
    "\n",
    "for i in range(1000): #training 1000 times\n",
    "    if (i % 100 == 0):\n",
    "        print(\"Loss: \" + str(np.mean(np.square(y - NN.feedForward(X)))))\n",
    "    NN.train(X, y)\n",
    "        \n",
    "print(\"Input: \" + str(X))\n",
    "print(\"Actual Output: \" + str(y))\n",
    "print(\"Mean sqaure Error: \" + str(np.mean(np.square(y - NN.feedForward(X)))))\n",
    "print(\"\\n\")\n",
    "print(\"Predicted Output: \" + str(NN.feedForward(X)))"
   ]
  }
 ],
 "metadata": {
  "colab": {
   "provenance": [],
   "toc_visible": true
  },
  "kernelspec": {
   "display_name": "Python 3 (ipykernel)",
   "language": "python",
   "name": "python3"
  },
  "language_info": {
   "codemirror_mode": {
    "name": "ipython",
    "version": 3
   },
   "file_extension": ".py",
   "mimetype": "text/x-python",
   "name": "python",
   "nbconvert_exporter": "python",
   "pygments_lexer": "ipython3",
   "version": "3.9.12"
  },
  "vscode": {
   "interpreter": {
    "hash": "11938c6bc6919ae2720b4d5011047913343b08a43b18698fd82dedb0d4417594"
   }
  }
 },
 "nbformat": 4,
 "nbformat_minor": 5
}
