{
 "cells": [
  {
   "cell_type": "code",
   "execution_count": 141,
   "id": "fc2885e1",
   "metadata": {},
   "outputs": [],
   "source": [
    "import pandas as pd"
   ]
  },
  {
   "cell_type": "code",
   "execution_count": 142,
   "id": "0d6fcc56",
   "metadata": {},
   "outputs": [],
   "source": [
    "import numpy as np"
   ]
  },
  {
   "cell_type": "code",
   "execution_count": 143,
   "id": "06f1faf8",
   "metadata": {},
   "outputs": [],
   "source": [
    "import seaborn as sns\n",
    "import matplotlib.pyplot as plt\n",
    "import statsmodels.api as sm\n",
    "%matplotlib inline"
   ]
  },
  {
   "cell_type": "code",
   "execution_count": 144,
   "id": "9dbe7eb5",
   "metadata": {},
   "outputs": [
    {
     "name": "stdout",
     "output_type": "stream",
     "text": [
      "<class 'numpy.ndarray'>\n",
      "                            OLS Regression Results                            \n",
      "==============================================================================\n",
      "Dep. Variable:                      y   R-squared:                       0.953\n",
      "Model:                            OLS   Adj. R-squared:                  0.947\n",
      "Method:                 Least Squares   F-statistic:                     160.6\n",
      "Date:                Fri, 19 Aug 2022   Prob (F-statistic):           1.41e-06\n",
      "Time:                        11:22:53   Log-Likelihood:                -11.312\n",
      "No. Observations:                  10   AIC:                             26.62\n",
      "Df Residuals:                       8   BIC:                             27.23\n",
      "Df Model:                           1                                         \n",
      "Covariance Type:            nonrobust                                         \n",
      "==============================================================================\n",
      "                 coef    std err          t      P>|t|      [0.025      0.975]\n",
      "------------------------------------------------------------------------------\n",
      "const          1.2364      0.493      2.509      0.036       0.100       2.373\n",
      "x1             1.1697      0.092     12.671      0.000       0.957       1.383\n",
      "==============================================================================\n",
      "Omnibus:                        0.948   Durbin-Watson:                   2.059\n",
      "Prob(Omnibus):                  0.622   Jarque-Bera (JB):                0.392\n",
      "Skew:                          -0.461   Prob(JB):                        0.822\n",
      "Kurtosis:                       2.702   Cond. No.                         10.2\n",
      "==============================================================================\n",
      "\n",
      "Notes:\n",
      "[1] Standard Errors assume that the covariance matrix of the errors is correctly specified.\n"
     ]
    },
    {
     "name": "stderr",
     "output_type": "stream",
     "text": [
      "/Users/aman/opt/anaconda3/lib/python3.9/site-packages/scipy/stats/stats.py:1541: UserWarning: kurtosistest only valid for n>=20 ... continuing anyway, n=10\n",
      "  warnings.warn(\"kurtosistest only valid for n>=20 ... continuing \"\n"
     ]
    }
   ],
   "source": [
    "X = [0, 1, 2, 3, 4, 5, 6, 7, 8, 9]\n",
    "Y = [1, 3, 2, 5, 7, 8, 8, 9, 10, 12]\n",
    "A = sm.add_constant(X)\n",
    "result = sm.OLS(Y,A).fit()\n",
    "print(type(A))\n",
    "print(result.summary())"
   ]
  },
  {
   "cell_type": "code",
   "execution_count": 145,
   "id": "e51c0ea7",
   "metadata": {},
   "outputs": [
    {
     "name": "stdout",
     "output_type": "stream",
     "text": [
      "Regression line:\n",
      "Y = 1.321 + 1.170*X\n"
     ]
    },
    {
     "data": {
      "image/png": "[encoded data removed]",
      "text/plain": [
       "<Figure size 432x288 with 1 Axes>"
      ]
     },
     "metadata": {
      "needs_background": "light"
     },
     "output_type": "display_data"
    }
   ],
   "source": [
    "def calculate(x, y, n):\n",
    "\n",
    " sox = sum(x)\n",
    "\n",
    " soy = sum(y)\n",
    " \n",
    " soxsy = 0\n",
    "\n",
    " sox2 = 0\n",
    "\n",
    " for i in range(n):\n",
    "  soxsy += x[i] * y[i]\n",
    "  sox2 += x[i] * x[i]\n",
    " m = (n * soxsy - sox * soy)/(n * sox2 - sox * sox)\n",
    " return m\n",
    "\n",
    "def LineReg(X,Y,n):\n",
    " \n",
    " m = calculate(X, Y, n)\n",
    " meanX = int(sum(X)/n)\n",
    " meanY = int(sum(Y)/n)\n",
    " a = meanY - m * meanX\n",
    " X = np.array(X)\n",
    " y = m*X + a\n",
    " plt.scatter(X,Y)\n",
    " plt.plot(y,'b')\n",
    " print(\"Regression line:\")\n",
    " print(\"Y = \", '%.3f'%a, \" + \", '%.3f'%m, \"*X\", sep=\"\")\n",
    "\n",
    "X = [0, 1, 2, 3, 4, 5, 6, 7, 8, 9]\n",
    "Y = [1, 3, 2, 5, 7, 8, 8, 9, 10, 12]\n",
    "n = len(X)\n",
    "LineReg(X, Y, n)"
   ]
  },
  {
   "cell_type": "code",
   "execution_count": 169,
   "id": "0ce14483",
   "metadata": {},
   "outputs": [
    {
     "name": "stdout",
     "output_type": "stream",
     "text": [
      "20\n",
      "27.589999999999996\n"
     ]
    }
   ],
   "source": [
    "m = 1.321\n",
    "c = 1.170\n",
    "predict = float(input())\n",
    "print(m*predict + c)"
   ]
  },
  {
   "cell_type": "code",
   "execution_count": 148,
   "id": "9eb65c2c",
   "metadata": {},
   "outputs": [],
   "source": [
    "X = np.array([0,1,2,3,4,5,6,7,8,9])\n",
    "Y = np.array([1,3,2,5,7,8,8,9,10,12])"
   ]
  },
  {
   "cell_type": "code",
   "execution_count": 127,
   "id": "921f78cd",
   "metadata": {},
   "outputs": [
    {
     "name": "stdout",
     "output_type": "stream",
     "text": [
      "1.1697299581748266 1.2361567792813843\n"
     ]
    }
   ],
   "source": [
    "m=0\n",
    "c=0\n",
    "lr = 0.015\n",
    "e = 1000\n",
    "n = len(X)\n",
    "\n",
    "for i in range(e):\n",
    "    Y_pred = m*X + c  \n",
    "    Dm = (-2/n) * sum(X * (Y - Y_pred)) \n",
    "    Dc = (-2/n) * sum(Y - Y_pred)  \n",
    "    m = m - lr * Dm \n",
    "    c = c - lr * Dc\n",
    "    \n",
    "print(m,c)"
   ]
  },
  {
   "cell_type": "code",
   "execution_count": 149,
   "id": "a8d15021",
   "metadata": {},
   "outputs": [
    {
     "data": {
      "image/png": "[encoded data removed]",
      "text/plain": [
       "<Figure size 432x288 with 1 Axes>"
      ]
     },
     "metadata": {
      "needs_background": "light"
     },
     "output_type": "display_data"
    }
   ],
   "source": [
    "Y_pred = m*X +c\n",
    "plt.scatter(X,Y)\n",
    "plt.plot([min(X),max(X)], [min(Y_pred), max(Y_pred)], color='black')\n",
    "plt.show()"
   ]
  },
  {
   "cell_type": "code",
   "execution_count": 129,
   "id": "bdcacb3b",
   "metadata": {
    "scrolled": true
   },
   "outputs": [
    {
     "name": "stderr",
     "output_type": "stream",
     "text": [
      "/Users/aman/opt/anaconda3/lib/python3.9/site-packages/sklearn/utils/deprecation.py:87: FutureWarning: Function load_boston is deprecated; `load_boston` is deprecated in 1.0 and will be removed in 1.2.\n",
      "\n",
      "    The Boston housing prices dataset has an ethical problem. You can refer to\n",
      "    the documentation of this function for further details.\n",
      "\n",
      "    The scikit-learn maintainers therefore strongly discourage the use of this\n",
      "    dataset unless the purpose of the code is to study and educate about\n",
      "    ethical issues in data science and machine learning.\n",
      "\n",
      "    In this special case, you can fetch the dataset from the original\n",
      "    source::\n",
      "\n",
      "        import pandas as pd\n",
      "        import numpy as np\n",
      "\n",
      "\n",
      "        data_url = \"http://lib.stat.cmu.edu/datasets/boston\"\n",
      "        raw_df = pd.read_csv(data_url, sep=\"\\s+\", skiprows=22, header=None)\n",
      "        data = np.hstack([raw_df.values[::2, :], raw_df.values[1::2, :2]])\n",
      "        target = raw_df.values[1::2, 2]\n",
      "\n",
      "    Alternative datasets include the California housing dataset (i.e.\n",
      "    :func:`~sklearn.datasets.fetch_california_housing`) and the Ames housing\n",
      "    dataset. You can load the datasets as follows::\n",
      "\n",
      "        from sklearn.datasets import fetch_california_housing\n",
      "        housing = fetch_california_housing()\n",
      "\n",
      "    for the California housing dataset and::\n",
      "\n",
      "        from sklearn.datasets import fetch_openml\n",
      "        housing = fetch_openml(name=\"house_prices\", as_frame=True)\n",
      "\n",
      "    for the Ames housing dataset.\n",
      "    \n",
      "  warnings.warn(msg, category=FutureWarning)\n"
     ]
    }
   ],
   "source": [
    "from sklearn import datasets\n",
    "boston = datasets.load_boston()"
   ]
  },
  {
   "cell_type": "code",
   "execution_count": 150,
   "id": "f936c1f1",
   "metadata": {},
   "outputs": [
    {
     "data": {
      "text/plain": [
       "numpy.ndarray"
      ]
     },
     "execution_count": 150,
     "metadata": {},
     "output_type": "execute_result"
    }
   ],
   "source": [
    "type(boston.data)"
   ]
  },
  {
   "cell_type": "code",
   "execution_count": 151,
   "id": "53f63c84",
   "metadata": {},
   "outputs": [],
   "source": [
    "df = pd.DataFrame(data=boston.data,columns=boston.feature_names)"
   ]
  },
  {
   "cell_type": "code",
   "execution_count": 155,
   "id": "590231b7",
   "metadata": {},
   "outputs": [
    {
     "data": {
      "text/html": [
       "<div>\n",
       "<style scoped>\n",
       "    .dataframe tbody tr th:only-of-type {\n",
       "        vertical-align: middle;\n",
       "    }\n",
       "\n",
       "    .dataframe tbody tr th {\n",
       "        vertical-align: top;\n",
       "    }\n",
       "\n",
       "    .dataframe thead th {\n",
       "        text-align: right;\n",
       "    }\n",
       "</style>\n",
       "<table border=\"1\" class=\"dataframe\">\n",
       "  <thead>\n",
       "    <tr style=\"text-align: right;\">\n",
       "      <th></th>\n",
       "      <th>CRIM</th>\n",
       "      <th>ZN</th>\n",
       "      <th>INDUS</th>\n",
       "      <th>CHAS</th>\n",
       "      <th>NOX</th>\n",
       "      <th>RM</th>\n",
       "      <th>AGE</th>\n",
       "      <th>DIS</th>\n",
       "      <th>RAD</th>\n",
       "      <th>TAX</th>\n",
       "      <th>PTRATIO</th>\n",
       "      <th>B</th>\n",
       "      <th>LSTAT</th>\n",
       "    </tr>\n",
       "  </thead>\n",
       "  <tbody>\n",
       "    <tr>\n",
       "      <th>0</th>\n",
       "      <td>0.00632</td>\n",
       "      <td>18.0</td>\n",
       "      <td>2.31</td>\n",
       "      <td>0.0</td>\n",
       "      <td>0.538</td>\n",
       "      <td>6.575</td>\n",
       "      <td>65.2</td>\n",
       "      <td>4.0900</td>\n",
       "      <td>1.0</td>\n",
       "      <td>296.0</td>\n",
       "      <td>15.3</td>\n",
       "      <td>396.90</td>\n",
       "      <td>4.98</td>\n",
       "    </tr>\n",
       "    <tr>\n",
       "      <th>1</th>\n",
       "      <td>0.02731</td>\n",
       "      <td>0.0</td>\n",
       "      <td>7.07</td>\n",
       "      <td>0.0</td>\n",
       "      <td>0.469</td>\n",
       "      <td>6.421</td>\n",
       "      <td>78.9</td>\n",
       "      <td>4.9671</td>\n",
       "      <td>2.0</td>\n",
       "      <td>242.0</td>\n",
       "      <td>17.8</td>\n",
       "      <td>396.90</td>\n",
       "      <td>9.14</td>\n",
       "    </tr>\n",
       "    <tr>\n",
       "      <th>2</th>\n",
       "      <td>0.02729</td>\n",
       "      <td>0.0</td>\n",
       "      <td>7.07</td>\n",
       "      <td>0.0</td>\n",
       "      <td>0.469</td>\n",
       "      <td>7.185</td>\n",
       "      <td>61.1</td>\n",
       "      <td>4.9671</td>\n",
       "      <td>2.0</td>\n",
       "      <td>242.0</td>\n",
       "      <td>17.8</td>\n",
       "      <td>392.83</td>\n",
       "      <td>4.03</td>\n",
       "    </tr>\n",
       "    <tr>\n",
       "      <th>3</th>\n",
       "      <td>0.03237</td>\n",
       "      <td>0.0</td>\n",
       "      <td>2.18</td>\n",
       "      <td>0.0</td>\n",
       "      <td>0.458</td>\n",
       "      <td>6.998</td>\n",
       "      <td>45.8</td>\n",
       "      <td>6.0622</td>\n",
       "      <td>3.0</td>\n",
       "      <td>222.0</td>\n",
       "      <td>18.7</td>\n",
       "      <td>394.63</td>\n",
       "      <td>2.94</td>\n",
       "    </tr>\n",
       "    <tr>\n",
       "      <th>4</th>\n",
       "      <td>0.06905</td>\n",
       "      <td>0.0</td>\n",
       "      <td>2.18</td>\n",
       "      <td>0.0</td>\n",
       "      <td>0.458</td>\n",
       "      <td>7.147</td>\n",
       "      <td>54.2</td>\n",
       "      <td>6.0622</td>\n",
       "      <td>3.0</td>\n",
       "      <td>222.0</td>\n",
       "      <td>18.7</td>\n",
       "      <td>396.90</td>\n",
       "      <td>5.33</td>\n",
       "    </tr>\n",
       "    <tr>\n",
       "      <th>...</th>\n",
       "      <td>...</td>\n",
       "      <td>...</td>\n",
       "      <td>...</td>\n",
       "      <td>...</td>\n",
       "      <td>...</td>\n",
       "      <td>...</td>\n",
       "      <td>...</td>\n",
       "      <td>...</td>\n",
       "      <td>...</td>\n",
       "      <td>...</td>\n",
       "      <td>...</td>\n",
       "      <td>...</td>\n",
       "      <td>...</td>\n",
       "    </tr>\n",
       "    <tr>\n",
       "      <th>501</th>\n",
       "      <td>0.06263</td>\n",
       "      <td>0.0</td>\n",
       "      <td>11.93</td>\n",
       "      <td>0.0</td>\n",
       "      <td>0.573</td>\n",
       "      <td>6.593</td>\n",
       "      <td>69.1</td>\n",
       "      <td>2.4786</td>\n",
       "      <td>1.0</td>\n",
       "      <td>273.0</td>\n",
       "      <td>21.0</td>\n",
       "      <td>391.99</td>\n",
       "      <td>9.67</td>\n",
       "    </tr>\n",
       "    <tr>\n",
       "      <th>502</th>\n",
       "      <td>0.04527</td>\n",
       "      <td>0.0</td>\n",
       "      <td>11.93</td>\n",
       "      <td>0.0</td>\n",
       "      <td>0.573</td>\n",
       "      <td>6.120</td>\n",
       "      <td>76.7</td>\n",
       "      <td>2.2875</td>\n",
       "      <td>1.0</td>\n",
       "      <td>273.0</td>\n",
       "      <td>21.0</td>\n",
       "      <td>396.90</td>\n",
       "      <td>9.08</td>\n",
       "    </tr>\n",
       "    <tr>\n",
       "      <th>503</th>\n",
       "      <td>0.06076</td>\n",
       "      <td>0.0</td>\n",
       "      <td>11.93</td>\n",
       "      <td>0.0</td>\n",
       "      <td>0.573</td>\n",
       "      <td>6.976</td>\n",
       "      <td>91.0</td>\n",
       "      <td>2.1675</td>\n",
       "      <td>1.0</td>\n",
       "      <td>273.0</td>\n",
       "      <td>21.0</td>\n",
       "      <td>396.90</td>\n",
       "      <td>5.64</td>\n",
       "    </tr>\n",
       "    <tr>\n",
       "      <th>504</th>\n",
       "      <td>0.10959</td>\n",
       "      <td>0.0</td>\n",
       "      <td>11.93</td>\n",
       "      <td>0.0</td>\n",
       "      <td>0.573</td>\n",
       "      <td>6.794</td>\n",
       "      <td>89.3</td>\n",
       "      <td>2.3889</td>\n",
       "      <td>1.0</td>\n",
       "      <td>273.0</td>\n",
       "      <td>21.0</td>\n",
       "      <td>393.45</td>\n",
       "      <td>6.48</td>\n",
       "    </tr>\n",
       "    <tr>\n",
       "      <th>505</th>\n",
       "      <td>0.04741</td>\n",
       "      <td>0.0</td>\n",
       "      <td>11.93</td>\n",
       "      <td>0.0</td>\n",
       "      <td>0.573</td>\n",
       "      <td>6.030</td>\n",
       "      <td>80.8</td>\n",
       "      <td>2.5050</td>\n",
       "      <td>1.0</td>\n",
       "      <td>273.0</td>\n",
       "      <td>21.0</td>\n",
       "      <td>396.90</td>\n",
       "      <td>7.88</td>\n",
       "    </tr>\n",
       "  </tbody>\n",
       "</table>\n",
       "<p>506 rows × 13 columns</p>\n",
       "</div>"
      ],
      "text/plain": [
       "        CRIM    ZN  INDUS  CHAS    NOX     RM   AGE     DIS  RAD    TAX  \\\n",
       "0    0.00632  18.0   2.31   0.0  0.538  6.575  65.2  4.0900  1.0  296.0   \n",
       "1    0.02731   0.0   7.07   0.0  0.469  6.421  78.9  4.9671  2.0  242.0   \n",
       "2    0.02729   0.0   7.07   0.0  0.469  7.185  61.1  4.9671  2.0  242.0   \n",
       "3    0.03237   0.0   2.18   0.0  0.458  6.998  45.8  6.0622  3.0  222.0   \n",
       "4    0.06905   0.0   2.18   0.0  0.458  7.147  54.2  6.0622  3.0  222.0   \n",
       "..       ...   ...    ...   ...    ...    ...   ...     ...  ...    ...   \n",
       "501  0.06263   0.0  11.93   0.0  0.573  6.593  69.1  2.4786  1.0  273.0   \n",
       "502  0.04527   0.0  11.93   0.0  0.573  6.120  76.7  2.2875  1.0  273.0   \n",
       "503  0.06076   0.0  11.93   0.0  0.573  6.976  91.0  2.1675  1.0  273.0   \n",
       "504  0.10959   0.0  11.93   0.0  0.573  6.794  89.3  2.3889  1.0  273.0   \n",
       "505  0.04741   0.0  11.93   0.0  0.573  6.030  80.8  2.5050  1.0  273.0   \n",
       "\n",
       "     PTRATIO       B  LSTAT  \n",
       "0       15.3  396.90   4.98  \n",
       "1       17.8  396.90   9.14  \n",
       "2       17.8  392.83   4.03  \n",
       "3       18.7  394.63   2.94  \n",
       "4       18.7  396.90   5.33  \n",
       "..       ...     ...    ...  \n",
       "501     21.0  391.99   9.67  \n",
       "502     21.0  396.90   9.08  \n",
       "503     21.0  396.90   5.64  \n",
       "504     21.0  393.45   6.48  \n",
       "505     21.0  396.90   7.88  \n",
       "\n",
       "[506 rows x 13 columns]"
      ]
     },
     "execution_count": 155,
     "metadata": {},
     "output_type": "execute_result"
    }
   ],
   "source": [
    "df"
   ]
  },
  {
   "cell_type": "code",
   "execution_count": 156,
   "id": "96a81a64",
   "metadata": {},
   "outputs": [],
   "source": [
    "y = boston.target"
   ]
  },
  {
   "cell_type": "code",
   "execution_count": 157,
   "id": "cfeabd6f",
   "metadata": {},
   "outputs": [],
   "source": [
    "X = df"
   ]
  },
  {
   "cell_type": "code",
   "execution_count": 158,
   "id": "cfe31a8f",
   "metadata": {},
   "outputs": [],
   "source": [
    "from sklearn.model_selection import train_test_split\n",
    "from sklearn.linear_model import LinearRegression"
   ]
  },
  {
   "cell_type": "code",
   "execution_count": 160,
   "id": "7fe58270",
   "metadata": {},
   "outputs": [],
   "source": [
    "X_train, X_test, y_train, y_test = train_test_split(X, y, test_size = 0.3, random_state = 3)"
   ]
  },
  {
   "cell_type": "code",
   "execution_count": 161,
   "id": "298bec8b",
   "metadata": {},
   "outputs": [
    {
     "data": {
      "text/plain": [
       "LinearRegression()"
      ]
     },
     "execution_count": 161,
     "metadata": {},
     "output_type": "execute_result"
    }
   ],
   "source": [
    "lr = LinearRegression()\n",
    "lr.fit(X_train,y_train)"
   ]
  },
  {
   "cell_type": "code",
   "execution_count": 162,
   "id": "f82972b6",
   "metadata": {},
   "outputs": [],
   "source": [
    "predictions = lr.predict(X_test)"
   ]
  },
  {
   "cell_type": "code",
   "execution_count": 168,
   "id": "e0ae35d1",
   "metadata": {
    "scrolled": true
   },
   "outputs": [
    {
     "data": {
      "text/plain": [
       "<Figure size 1440x720 with 0 Axes>"
      ]
     },
     "execution_count": 168,
     "metadata": {},
     "output_type": "execute_result"
    },
    {
     "data": {
      "image/png": "[encoded data removed]",
      "text/plain": [
       "<Figure size 432x288 with 1 Axes>"
      ]
     },
     "metadata": {
      "needs_background": "light"
     },
     "output_type": "display_data"
    }
   ],
   "source": [
    "plt.scatter(y_test,predictions)\n",
    "plt.Figure(figsize=(20,10))"
   ]
  },
  {
   "cell_type": "code",
   "execution_count": 140,
   "id": "6e691759",
   "metadata": {},
   "outputs": [
    {
     "data": {
      "text/plain": [
       "array([44.8, 17.1, 17.8, 33.1, 21.9, 21. , 18.4, 10.4, 23.1, 20. , 15.7,\n",
       "       41.3, 33.3, 30.7,  8.5,  6.3, 21.2, 16.2, 15.6, 24.1, 23.9, 50. ,\n",
       "       23.2, 23.4, 12.8, 24.6, 18.8, 16.1, 18.2, 24.3, 14.8, 37.3, 21.4,\n",
       "       18.6, 18.8, 13.9, 24.5, 31.5, 18.2, 20.7, 19.4,  9.7, 21.5, 14.9,\n",
       "       21.7, 26.5, 20.7, 19.3, 24.5, 19.3, 26.6, 23. , 45.4, 19.8, 22.7,\n",
       "       23.1, 50. , 17.8, 29.1, 19.2, 22.7, 21.2, 37.2, 31.6, 16.1, 22.2,\n",
       "       34.9, 20.5, 28. , 29.1, 24.7, 22. , 15.6, 37. , 11.8, 21.7, 19.4,\n",
       "       23.3, 16.5, 16.7, 23.9, 15.2, 11.9, 19.9, 22.8, 11.3, 25.2, 11.5,\n",
       "       22. , 21.6, 19.9, 16.8, 19.3, 50. , 29.4, 13.3, 50. , 11.7, 21.7,\n",
       "       33.4, 20.2, 19.4, 14.9, 19.6, 35.4, 12. , 20.4, 23.7, 21. , 50. ,\n",
       "       27.5, 12.7, 17.4, 23.8, 22.9, 18.5, 30.3, 31.2, 16. , 23.3, 15. ,\n",
       "       10.2, 12.5, 19.6, 19.7, 19.5, 15. , 35.4, 13.5, 20.6, 24.7, 21.9,\n",
       "       17.1, 23.6, 21.1, 15.6, 18.5,  8.3, 14.5, 23.9, 11.8, 24.6, 24.8,\n",
       "       18.7, 17.9, 48.8, 13. , 29.6, 18. , 20.1, 17.3, 23.1, 22.6, 13.8,\n",
       "       43.8, 35.2, 22.6, 17.4, 48.5, 31.5, 15.6, 14.2, 20.6, 22. , 20.1,\n",
       "       17.6, 23.7, 14.1, 19.8, 24.4, 33.4, 39.8, 34.9, 24.8, 14.6, 23.4,\n",
       "       33.8, 23.9,  9.6, 21.8, 31.6, 14.5,  7.2, 24.1, 21.4, 17.2, 46. ,\n",
       "       23.1, 14.5, 20.5, 17. , 48.3, 30.5, 20.6, 20.2, 27.1, 19.7, 24.7,\n",
       "       31.1, 22.3, 29.8, 13.6, 28.7, 21.4, 13.4, 16.6, 20. , 24.2, 20.6,\n",
       "       20.3, 12.7, 18.9, 17.8,  7. , 16.1, 22.5, 18.3, 13.9, 50. , 50. ,\n",
       "       13.8, 23.5, 32.2, 19.3,  9.5, 22.2, 24.5, 12.1, 20.1, 23.2, 19.1,\n",
       "       43.5, 17.4, 19.6, 20.8, 36.1, 14.1, 25.1,  7.5, 11.9, 23.3, 21.4,\n",
       "       46.7, 25.3, 36.2, 20.3, 23.8, 14. , 20.9, 33. , 19.8, 19.4, 35.1,\n",
       "       20.4, 22.6,  7.2, 18.3, 22.9, 43.1, 28.4, 30.1, 20.5, 21.2,  8.5,\n",
       "       19.6, 28.5, 50. , 19. , 22.8, 14.3, 23. , 15.6, 29. , 26.4, 34.9,\n",
       "       26.6, 23.7,  8.3, 10.9, 31.7, 18.5, 14.1, 16.4, 19.9, 31. , 21. ,\n",
       "       23.7, 24.4, 50. , 15.4, 10.9, 13.3, 20.6, 17.5, 21.7, 26.6, 32. ,\n",
       "       28.7, 10.5, 13.5, 28.7, 22.8, 26.7,  7.2, 13.1, 19.9, 21.7, 34.6,\n",
       "       28.1, 15.4, 29. ,  8.1, 24.1, 13.8, 21.4, 23.8, 20.3, 25. , 27.5,\n",
       "       28.4, 20.4, 17.5, 27.5, 24.3, 23.2, 22.5, 22.6, 28.2, 22.2, 23.1,\n",
       "       30.8, 22.5, 36.2, 17.5, 13.8, 24.3, 17.2, 50. , 50. , 30.1, 32.9,\n",
       "       27.9, 21.7,  8.8,  8.4, 21.9, 13.1, 25. , 19.1, 15.1, 18.4, 18.7,\n",
       "       17.7, 21.8, 27.5])"
      ]
     },
     "execution_count": 140,
     "metadata": {},
     "output_type": "execute_result"
    }
   ],
   "source": [
    "y_test"
   ]
  },
  {
   "cell_type": "code",
   "execution_count": null,
   "id": "65051792",
   "metadata": {},
   "outputs": [],
   "source": []
  }
 ],
 "metadata": {
  "kernelspec": {
   "display_name": "Python 3 (ipykernel)",
   "language": "python",
   "name": "python3"
  },
  "language_info": {
   "codemirror_mode": {
    "name": "ipython",
    "version": 3
   },
   "file_extension": ".py",
   "mimetype": "text/x-python",
   "name": "python",
   "nbconvert_exporter": "python",
   "pygments_lexer": "ipython3",
   "version": "3.9.12"
  }
 },
 "nbformat": 4,
 "nbformat_minor": 5
}
